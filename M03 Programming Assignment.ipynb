{
 "cells": [
  {
   "cell_type": "code",
   "execution_count": 72,
   "id": "e5a8addd",
   "metadata": {},
   "outputs": [
    {
     "data": {
      "text/plain": [
       "['MOZZARELLA', 'Cinderella']"
      ]
     },
     "execution_count": 72,
     "metadata": {},
     "output_type": "execute_result"
    }
   ],
   "source": [
    "#7.4\n",
    "things = ['mozzarella', 'cinderella', 'salmonella']\n",
    "\n",
    "#7.5\n",
    "things[1] = things[1].capitalize()\n",
    "things\n",
    "# This did change the element in the list\n",
    "\n",
    "#7.6\n",
    "things [0] = things[0].upper()\n",
    "things\n",
    "\n",
    "#7.7\n",
    "del things[2]\n",
    "things"
   ]
  },
  {
   "cell_type": "code",
   "execution_count": 74,
   "id": "d6c217ce",
   "metadata": {},
   "outputs": [
    {
     "data": {
      "text/plain": [
       "['Harry', 'Ron', 'Hermione']"
      ]
     },
     "execution_count": 74,
     "metadata": {},
     "output_type": "execute_result"
    }
   ],
   "source": [
    "#9.1\n",
    "def good():\n",
    "    wiz = ['Harry', 'Ron', 'Hermione']\n",
    "    return wiz\n",
    "good()"
   ]
  },
  {
   "cell_type": "code",
   "execution_count": 94,
   "id": "38329d97",
   "metadata": {},
   "outputs": [
    {
     "name": "stdout",
     "output_type": "stream",
     "text": [
      "5\n"
     ]
    }
   ],
   "source": [
    "#9.2\n",
    "def get_odds(first = 1, last = 10, step = 2):\n",
    "    number = first\n",
    "    while number < last:\n",
    "        yield number\n",
    "        number += step      \n",
    "num = 0\n",
    "for x in get_odds():\n",
    "    if num == 2:\n",
    "        print(x)\n",
    "        break\n",
    "    num += 1"
   ]
  },
  {
   "cell_type": "code",
   "execution_count": null,
   "id": "1f1e6082",
   "metadata": {},
   "outputs": [],
   "source": []
  }
 ],
 "metadata": {
  "kernelspec": {
   "display_name": "Python 3 (ipykernel)",
   "language": "python",
   "name": "python3"
  },
  "language_info": {
   "codemirror_mode": {
    "name": "ipython",
    "version": 3
   },
   "file_extension": ".py",
   "mimetype": "text/x-python",
   "name": "python",
   "nbconvert_exporter": "python",
   "pygments_lexer": "ipython3",
   "version": "3.9.13"
  }
 },
 "nbformat": 4,
 "nbformat_minor": 5
}
